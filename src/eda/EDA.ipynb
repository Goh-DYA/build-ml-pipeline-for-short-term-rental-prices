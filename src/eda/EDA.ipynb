{
 "cells": [
  {
   "cell_type": "code",
   "execution_count": 1,
   "id": "5050cfdf-23af-47f1-ad79-208294b4750d",
   "metadata": {},
   "outputs": [
    {
     "data": {
      "text/html": [
       "\n",
       "            <div>\n",
       "                <ins><a href=\"https://ydata.ai/register\">Upgrade to ydata-sdk</a></ins>\n",
       "                <p>\n",
       "                    Improve your data and profiling with ydata-sdk, featuring data quality scoring, redundancy detection, outlier identification, text validation, and synthetic data generation.\n",
       "                </p>\n",
       "            </div>\n",
       "            "
      ],
      "text/plain": [
       "<IPython.core.display.HTML object>"
      ]
     },
     "metadata": {},
     "output_type": "display_data"
    }
   ],
   "source": [
    "# !pip install ydata-profiling\n",
    "\n",
    "import wandb\n",
    "import pandas as pd\n",
    "from ydata_profiling import ProfileReport"
   ]
  },
  {
   "cell_type": "code",
   "execution_count": 2,
   "id": "c8f69d12-6ab7-4eb3-b898-a1e28e0eb2a0",
   "metadata": {},
   "outputs": [
    {
     "name": "stderr",
     "output_type": "stream",
     "text": [
      "\u001b[34m\u001b[1mwandb\u001b[0m: Currently logged in as: \u001b[33madisongoh\u001b[0m (\u001b[33madisongoh-national-university-of-singapore\u001b[0m). Use \u001b[1m`wandb login --relogin`\u001b[0m to force relogin\n"
     ]
    },
    {
     "data": {
      "text/html": [
       "wandb version 0.19.10 is available!  To upgrade, please run:\n",
       " $ pip install wandb --upgrade"
      ],
      "text/plain": [
       "<IPython.core.display.HTML object>"
      ]
     },
     "metadata": {},
     "output_type": "display_data"
    },
    {
     "data": {
      "text/html": [
       "Tracking run with wandb version 0.16.0"
      ],
      "text/plain": [
       "<IPython.core.display.HTML object>"
      ]
     },
     "metadata": {},
     "output_type": "display_data"
    },
    {
     "data": {
      "text/html": [
       "Run data is saved locally in <code>/home/adisongoh/Documents/build-model-workflow-exercises/build-ml-pipeline-for-short-term-rental-prices/src/eda/wandb/run-20250425_171338-8wah8ij5</code>"
      ],
      "text/plain": [
       "<IPython.core.display.HTML object>"
      ]
     },
     "metadata": {},
     "output_type": "display_data"
    },
    {
     "data": {
      "text/html": [
       "Syncing run <strong><a href='https://wandb.ai/adisongoh-national-university-of-singapore/nyc_airbnb/runs/8wah8ij5' target=\"_blank\">worldly-field-5</a></strong> to <a href='https://wandb.ai/adisongoh-national-university-of-singapore/nyc_airbnb' target=\"_blank\">Weights & Biases</a> (<a href='https://wandb.me/run' target=\"_blank\">docs</a>)<br/>"
      ],
      "text/plain": [
       "<IPython.core.display.HTML object>"
      ]
     },
     "metadata": {},
     "output_type": "display_data"
    },
    {
     "data": {
      "text/html": [
       " View project at <a href='https://wandb.ai/adisongoh-national-university-of-singapore/nyc_airbnb' target=\"_blank\">https://wandb.ai/adisongoh-national-university-of-singapore/nyc_airbnb</a>"
      ],
      "text/plain": [
       "<IPython.core.display.HTML object>"
      ]
     },
     "metadata": {},
     "output_type": "display_data"
    },
    {
     "data": {
      "text/html": [
       " View run at <a href='https://wandb.ai/adisongoh-national-university-of-singapore/nyc_airbnb/runs/8wah8ij5' target=\"_blank\">https://wandb.ai/adisongoh-national-university-of-singapore/nyc_airbnb/runs/8wah8ij5</a>"
      ],
      "text/plain": [
       "<IPython.core.display.HTML object>"
      ]
     },
     "metadata": {},
     "output_type": "display_data"
    },
    {
     "name": "stdout",
     "output_type": "stream",
     "text": [
      "./artifacts/sample.csv:latest/sample1.csv\n"
     ]
    }
   ],
   "source": [
    "run = wandb.init(project=\"nyc_airbnb\", group=\"eda\", save_code=True)  # we use save_code=True in the call to wandb.init so the notebook is uploaded and versioned by W&B.\n",
    "\n",
    "# Fetch data artifact from W&B and read it\n",
    "local_path = wandb.use_artifact(\"sample.csv:latest\").file()\n",
    "print(local_path)"
   ]
  },
  {
   "cell_type": "code",
   "execution_count": 3,
   "id": "68d8b87c-7c0f-4e89-aaec-93f1c7f45b52",
   "metadata": {},
   "outputs": [
    {
     "name": "stdout",
     "output_type": "stream",
     "text": [
      "(20000, 16)\n"
     ]
    }
   ],
   "source": [
    "df = pd.read_csv(local_path)\n",
    "print(df.shape)"
   ]
  },
  {
   "cell_type": "code",
   "execution_count": 8,
   "id": "0bd6328d-7d27-4f1e-96b5-113571ef840e",
   "metadata": {},
   "outputs": [
    {
     "name": "stdout",
     "output_type": "stream",
     "text": [
      "Profile ready\n"
     ]
    }
   ],
   "source": [
    "profile = ProfileReport(df, title=\"Profiling Report\")\n",
    "\n",
    "print(\"Profile ready\")"
   ]
  },
  {
   "cell_type": "code",
   "execution_count": 10,
   "id": "ab4f218c-798c-4308-85bb-ffa6d305b9d4",
   "metadata": {},
   "outputs": [
    {
     "data": {
      "application/vnd.jupyter.widget-view+json": {
       "model_id": "4b42a7c9dfcc4789b1ae5fd82f320054",
       "version_major": 2,
       "version_minor": 0
      },
      "text/plain": [
       "Summarize dataset:   0%|          | 0/5 [00:00<?, ?it/s]"
      ]
     },
     "metadata": {},
     "output_type": "display_data"
    },
    {
     "name": "stderr",
     "output_type": "stream",
     "text": [
      "\n",
      "  0%|                                                                                | 0/16 [00:00<?, ?it/s]\u001b[A\n",
      "100%|███████████████████████████████████████████████████████████████████████| 16/16 [00:00<00:00, 57.15it/s]\u001b[A\n",
      "/home/adisongoh/miniconda3/envs/mlflow-e4fcefd643ef1ee947cfeff48521954cf08a16aa/lib/python3.10/site-packages/ydata_profiling/model/correlations.py:87: UserWarning: There was an attempt to calculate the auto correlation, but this failed.\n",
      "To hide this warning, disable the calculation\n",
      "(using `df.profile_report(correlations={\"auto\": {\"calculate\": False}})`\n",
      "If this is problematic for your use case, please report this as an issue:\n",
      "https://github.com/ydataai/ydata-profiling/issues\n",
      "(include the error message: 'putmask: first argument must be an array')\n",
      "  warnings.warn(\n"
     ]
    },
    {
     "data": {
      "application/vnd.jupyter.widget-view+json": {
       "model_id": "588f37a1a3c94fb0b81d0084cf3f29a9",
       "version_major": 2,
       "version_minor": 0
      },
      "text/plain": [
       "Generate report structure:   0%|          | 0/1 [00:00<?, ?it/s]"
      ]
     },
     "metadata": {},
     "output_type": "display_data"
    },
    {
     "data": {
      "application/vnd.jupyter.widget-view+json": {
       "model_id": "9bf808a6cd0b4bfc8eade515a66bfc58",
       "version_major": 2,
       "version_minor": 0
      },
      "text/plain": [
       "Render HTML:   0%|          | 0/1 [00:00<?, ?it/s]"
      ]
     },
     "metadata": {},
     "output_type": "display_data"
    },
    {
     "data": {
      "application/vnd.jupyter.widget-view+json": {
       "model_id": "1c69fa40b2b548239b0a471bb1186f75",
       "version_major": 2,
       "version_minor": 0
      },
      "text/plain": [
       "Export report to file:   0%|          | 0/1 [00:00<?, ?it/s]"
      ]
     },
     "metadata": {},
     "output_type": "display_data"
    }
   ],
   "source": [
    "# Export the report to a html file\n",
    "profile.to_file(\"profile_report_EDA_before.html\")"
   ]
  },
  {
   "cell_type": "markdown",
   "id": "99ce0221-2c46-436d-862e-baa88e96de83",
   "metadata": {},
   "source": [
    "What do you notice? Look around and see what you can find. \n",
    "\n",
    "- For example, there are missing values in a few columns and the column last_review is a date but it is in string format.\n",
    "- Look also at the price column, and note the outliers. There are some zeros and some very high prices. After talking to your stakeholders, you decide to consider from a minimum of 10 to a maximum of 350 per night."
   ]
  },
  {
   "cell_type": "code",
   "execution_count": 19,
   "id": "568305c2-df2a-442c-b566-d9b9f952eb0a",
   "metadata": {},
   "outputs": [],
   "source": [
    "# Drop outliers - price between 10 to 350\n",
    "min_price = 10\n",
    "max_price = 350\n",
    "idx = df['price'].between(min_price, max_price)\n",
    "df = df[idx].copy()\n",
    "\n",
    "# minimum_nights between 1 to 14\n",
    "idx = df['minimum_nights'].between(1, 14)\n",
    "df = df[idx].copy()\n",
    "\n",
    "# Convert last_review to datetime\n",
    "df['last_review'] = pd.to_datetime(df['last_review'])"
   ]
  },
  {
   "cell_type": "markdown",
   "id": "854c1afc-4b7d-4497-a1c3-20e7f3a6de5c",
   "metadata": {},
   "source": [
    "Note how we did not impute missing values. We will do that in the inference pipeline, so we will be able to handle missing values also in production.\n",
    "\n"
   ]
  },
  {
   "cell_type": "code",
   "execution_count": 20,
   "id": "72e02e90-71f8-4560-a63b-eab60df90a63",
   "metadata": {},
   "outputs": [
    {
     "name": "stdout",
     "output_type": "stream",
     "text": [
      "<class 'pandas.core.frame.DataFrame'>\n",
      "Index: 16747 entries, 0 to 19999\n",
      "Data columns (total 16 columns):\n",
      " #   Column                          Non-Null Count  Dtype         \n",
      "---  ------                          --------------  -----         \n",
      " 0   id                              16747 non-null  int64         \n",
      " 1   name                            16740 non-null  object        \n",
      " 2   host_id                         16747 non-null  int64         \n",
      " 3   host_name                       16740 non-null  object        \n",
      " 4   neighbourhood_group             16747 non-null  object        \n",
      " 5   neighbourhood                   16747 non-null  object        \n",
      " 6   latitude                        16747 non-null  float64       \n",
      " 7   longitude                       16747 non-null  float64       \n",
      " 8   room_type                       16747 non-null  object        \n",
      " 9   price                           16747 non-null  int64         \n",
      " 10  minimum_nights                  16747 non-null  int64         \n",
      " 11  number_of_reviews               16747 non-null  int64         \n",
      " 12  last_review                     13842 non-null  datetime64[ns]\n",
      " 13  reviews_per_month               13842 non-null  float64       \n",
      " 14  calculated_host_listings_count  16747 non-null  int64         \n",
      " 15  availability_365                16747 non-null  int64         \n",
      "dtypes: datetime64[ns](1), float64(3), int64(7), object(5)\n",
      "memory usage: 2.2+ MB\n"
     ]
    }
   ],
   "source": [
    "df.info()"
   ]
  },
  {
   "cell_type": "code",
   "execution_count": 21,
   "id": "1a5dbf04-c4ab-48a3-a6d0-3bdef7a9fccf",
   "metadata": {},
   "outputs": [
    {
     "data": {
      "text/html": [
       "<div>\n",
       "<style scoped>\n",
       "    .dataframe tbody tr th:only-of-type {\n",
       "        vertical-align: middle;\n",
       "    }\n",
       "\n",
       "    .dataframe tbody tr th {\n",
       "        vertical-align: top;\n",
       "    }\n",
       "\n",
       "    .dataframe thead th {\n",
       "        text-align: right;\n",
       "    }\n",
       "</style>\n",
       "<table border=\"1\" class=\"dataframe\">\n",
       "  <thead>\n",
       "    <tr style=\"text-align: right;\">\n",
       "      <th></th>\n",
       "      <th>id</th>\n",
       "      <th>host_id</th>\n",
       "      <th>latitude</th>\n",
       "      <th>longitude</th>\n",
       "      <th>price</th>\n",
       "      <th>minimum_nights</th>\n",
       "      <th>number_of_reviews</th>\n",
       "      <th>last_review</th>\n",
       "      <th>reviews_per_month</th>\n",
       "      <th>calculated_host_listings_count</th>\n",
       "      <th>availability_365</th>\n",
       "    </tr>\n",
       "  </thead>\n",
       "  <tbody>\n",
       "    <tr>\n",
       "      <th>count</th>\n",
       "      <td>1.674700e+04</td>\n",
       "      <td>1.674700e+04</td>\n",
       "      <td>16747.000000</td>\n",
       "      <td>16747.000000</td>\n",
       "      <td>16747.000000</td>\n",
       "      <td>16747.000000</td>\n",
       "      <td>16747.000000</td>\n",
       "      <td>13842</td>\n",
       "      <td>13842.000000</td>\n",
       "      <td>16747.000000</td>\n",
       "      <td>16747.000000</td>\n",
       "    </tr>\n",
       "    <tr>\n",
       "      <th>mean</th>\n",
       "      <td>1.873316e+07</td>\n",
       "      <td>6.600128e+07</td>\n",
       "      <td>40.727028</td>\n",
       "      <td>-73.949359</td>\n",
       "      <td>121.082642</td>\n",
       "      <td>2.860572</td>\n",
       "      <td>25.856392</td>\n",
       "      <td>2018-10-04 03:07:21.612483584</td>\n",
       "      <td>1.469779</td>\n",
       "      <td>3.105153</td>\n",
       "      <td>97.520571</td>\n",
       "    </tr>\n",
       "    <tr>\n",
       "      <th>min</th>\n",
       "      <td>2.539000e+03</td>\n",
       "      <td>2.571000e+03</td>\n",
       "      <td>40.508730</td>\n",
       "      <td>-74.239140</td>\n",
       "      <td>10.000000</td>\n",
       "      <td>1.000000</td>\n",
       "      <td>0.000000</td>\n",
       "      <td>2011-05-12 00:00:00</td>\n",
       "      <td>0.010000</td>\n",
       "      <td>1.000000</td>\n",
       "      <td>0.000000</td>\n",
       "    </tr>\n",
       "    <tr>\n",
       "      <th>25%</th>\n",
       "      <td>9.287530e+06</td>\n",
       "      <td>7.748101e+06</td>\n",
       "      <td>40.687595</td>\n",
       "      <td>-73.981230</td>\n",
       "      <td>67.000000</td>\n",
       "      <td>1.000000</td>\n",
       "      <td>1.000000</td>\n",
       "      <td>2018-07-01 00:00:00</td>\n",
       "      <td>0.210000</td>\n",
       "      <td>1.000000</td>\n",
       "      <td>0.000000</td>\n",
       "    </tr>\n",
       "    <tr>\n",
       "      <th>50%</th>\n",
       "      <td>1.931783e+07</td>\n",
       "      <td>3.052348e+07</td>\n",
       "      <td>40.720070</td>\n",
       "      <td>-73.953650</td>\n",
       "      <td>100.000000</td>\n",
       "      <td>2.000000</td>\n",
       "      <td>7.000000</td>\n",
       "      <td>2019-05-26 00:00:00</td>\n",
       "      <td>0.830000</td>\n",
       "      <td>1.000000</td>\n",
       "      <td>25.000000</td>\n",
       "    </tr>\n",
       "    <tr>\n",
       "      <th>75%</th>\n",
       "      <td>2.861656e+07</td>\n",
       "      <td>1.019804e+08</td>\n",
       "      <td>40.762980</td>\n",
       "      <td>-73.932665</td>\n",
       "      <td>159.000000</td>\n",
       "      <td>3.000000</td>\n",
       "      <td>27.000000</td>\n",
       "      <td>2019-06-24 00:00:00</td>\n",
       "      <td>2.180000</td>\n",
       "      <td>2.000000</td>\n",
       "      <td>179.000000</td>\n",
       "    </tr>\n",
       "    <tr>\n",
       "      <th>max</th>\n",
       "      <td>3.648561e+07</td>\n",
       "      <td>2.742733e+08</td>\n",
       "      <td>40.913060</td>\n",
       "      <td>-73.717950</td>\n",
       "      <td>350.000000</td>\n",
       "      <td>14.000000</td>\n",
       "      <td>607.000000</td>\n",
       "      <td>2019-07-08 00:00:00</td>\n",
       "      <td>27.950000</td>\n",
       "      <td>327.000000</td>\n",
       "      <td>365.000000</td>\n",
       "    </tr>\n",
       "    <tr>\n",
       "      <th>std</th>\n",
       "      <td>1.090390e+07</td>\n",
       "      <td>7.770122e+07</td>\n",
       "      <td>0.056214</td>\n",
       "      <td>0.047920</td>\n",
       "      <td>70.664779</td>\n",
       "      <td>2.291717</td>\n",
       "      <td>47.305260</td>\n",
       "      <td>NaN</td>\n",
       "      <td>1.734220</td>\n",
       "      <td>20.105021</td>\n",
       "      <td>124.838908</td>\n",
       "    </tr>\n",
       "  </tbody>\n",
       "</table>\n",
       "</div>"
      ],
      "text/plain": [
       "                 id       host_id      latitude     longitude         price  \\\n",
       "count  1.674700e+04  1.674700e+04  16747.000000  16747.000000  16747.000000   \n",
       "mean   1.873316e+07  6.600128e+07     40.727028    -73.949359    121.082642   \n",
       "min    2.539000e+03  2.571000e+03     40.508730    -74.239140     10.000000   \n",
       "25%    9.287530e+06  7.748101e+06     40.687595    -73.981230     67.000000   \n",
       "50%    1.931783e+07  3.052348e+07     40.720070    -73.953650    100.000000   \n",
       "75%    2.861656e+07  1.019804e+08     40.762980    -73.932665    159.000000   \n",
       "max    3.648561e+07  2.742733e+08     40.913060    -73.717950    350.000000   \n",
       "std    1.090390e+07  7.770122e+07      0.056214      0.047920     70.664779   \n",
       "\n",
       "       minimum_nights  number_of_reviews                    last_review  \\\n",
       "count    16747.000000       16747.000000                          13842   \n",
       "mean         2.860572          25.856392  2018-10-04 03:07:21.612483584   \n",
       "min          1.000000           0.000000            2011-05-12 00:00:00   \n",
       "25%          1.000000           1.000000            2018-07-01 00:00:00   \n",
       "50%          2.000000           7.000000            2019-05-26 00:00:00   \n",
       "75%          3.000000          27.000000            2019-06-24 00:00:00   \n",
       "max         14.000000         607.000000            2019-07-08 00:00:00   \n",
       "std          2.291717          47.305260                            NaN   \n",
       "\n",
       "       reviews_per_month  calculated_host_listings_count  availability_365  \n",
       "count       13842.000000                    16747.000000      16747.000000  \n",
       "mean            1.469779                        3.105153         97.520571  \n",
       "min             0.010000                        1.000000          0.000000  \n",
       "25%             0.210000                        1.000000          0.000000  \n",
       "50%             0.830000                        1.000000         25.000000  \n",
       "75%             2.180000                        2.000000        179.000000  \n",
       "max            27.950000                      327.000000        365.000000  \n",
       "std             1.734220                       20.105021        124.838908  "
      ]
     },
     "execution_count": 21,
     "metadata": {},
     "output_type": "execute_result"
    }
   ],
   "source": [
    "df.describe()"
   ]
  },
  {
   "cell_type": "code",
   "execution_count": 22,
   "id": "14aebbf2-4a06-4249-a8e2-c397daf527c4",
   "metadata": {},
   "outputs": [
    {
     "name": "stdout",
     "output_type": "stream",
     "text": [
      "Profile ready\n"
     ]
    }
   ],
   "source": [
    "profile2 = ProfileReport(df, title=\"Profiling Report\")\n",
    "\n",
    "print(\"Profile ready\")"
   ]
  },
  {
   "cell_type": "code",
   "execution_count": 24,
   "id": "7f251e8a-537f-4359-80f5-0f82f8059b0c",
   "metadata": {},
   "outputs": [
    {
     "data": {
      "application/vnd.jupyter.widget-view+json": {
       "model_id": "a5f3b4a602df4fc0b059bd5930a91fcf",
       "version_major": 2,
       "version_minor": 0
      },
      "text/plain": [
       "Summarize dataset:   0%|          | 0/5 [00:00<?, ?it/s]"
      ]
     },
     "metadata": {},
     "output_type": "display_data"
    },
    {
     "name": "stderr",
     "output_type": "stream",
     "text": [
      "\n",
      "  0%|                                                                                | 0/16 [00:00<?, ?it/s]\u001b[A\n",
      "100%|███████████████████████████████████████████████████████████████████████| 16/16 [00:01<00:00,  8.29it/s]\u001b[A\n",
      "/home/adisongoh/miniconda3/envs/mlflow-e4fcefd643ef1ee947cfeff48521954cf08a16aa/lib/python3.10/site-packages/ydata_profiling/model/correlations.py:87: UserWarning: There was an attempt to calculate the auto correlation, but this failed.\n",
      "To hide this warning, disable the calculation\n",
      "(using `df.profile_report(correlations={\"auto\": {\"calculate\": False}})`\n",
      "If this is problematic for your use case, please report this as an issue:\n",
      "https://github.com/ydataai/ydata-profiling/issues\n",
      "(include the error message: 'putmask: first argument must be an array')\n",
      "  warnings.warn(\n"
     ]
    },
    {
     "data": {
      "application/vnd.jupyter.widget-view+json": {
       "model_id": "9ef54062376c44af8c386b79f5177882",
       "version_major": 2,
       "version_minor": 0
      },
      "text/plain": [
       "Generate report structure:   0%|          | 0/1 [00:00<?, ?it/s]"
      ]
     },
     "metadata": {},
     "output_type": "display_data"
    },
    {
     "data": {
      "application/vnd.jupyter.widget-view+json": {
       "model_id": "4611ce8b46a74f5395d03bb8a585eb41",
       "version_major": 2,
       "version_minor": 0
      },
      "text/plain": [
       "Render HTML:   0%|          | 0/1 [00:00<?, ?it/s]"
      ]
     },
     "metadata": {},
     "output_type": "display_data"
    },
    {
     "data": {
      "application/vnd.jupyter.widget-view+json": {
       "model_id": "c9cb9f3bb3ae4f57a16e156311cf9ce5",
       "version_major": 2,
       "version_minor": 0
      },
      "text/plain": [
       "Export report to file:   0%|          | 0/1 [00:00<?, ?it/s]"
      ]
     },
     "metadata": {},
     "output_type": "display_data"
    }
   ],
   "source": [
    "# Export the report to a html file\n",
    "profile2.to_file(\"profile_report_EDA_after.html\")"
   ]
  },
  {
   "cell_type": "code",
   "execution_count": 25,
   "id": "e452005c-cb62-44d1-9198-50222d333410",
   "metadata": {},
   "outputs": [
    {
     "data": {
      "application/vnd.jupyter.widget-view+json": {
       "model_id": "ef07c2b0416549d5a2c73fbc828c022e",
       "version_major": 2,
       "version_minor": 0
      },
      "text/plain": [
       "VBox(children=(Label(value='9.619 MB of 9.619 MB uploaded (0.021 MB deduped)\\r'), FloatProgress(value=1.0, max…"
      ]
     },
     "metadata": {},
     "output_type": "display_data"
    },
    {
     "data": {
      "text/html": [
       " View run <strong style=\"color:#cdcd00\">worldly-field-5</strong> at: <a href='https://wandb.ai/adisongoh-national-university-of-singapore/nyc_airbnb/runs/8wah8ij5' target=\"_blank\">https://wandb.ai/adisongoh-national-university-of-singapore/nyc_airbnb/runs/8wah8ij5</a><br/> View job at <a href='https://wandb.ai/adisongoh-national-university-of-singapore/nyc_airbnb/jobs/QXJ0aWZhY3RDb2xsZWN0aW9uOjYyMTU5MzYxMA==/version_details/v1' target=\"_blank\">https://wandb.ai/adisongoh-national-university-of-singapore/nyc_airbnb/jobs/QXJ0aWZhY3RDb2xsZWN0aW9uOjYyMTU5MzYxMA==/version_details/v1</a><br/>Synced 7 W&B file(s), 0 media file(s), 8 artifact file(s) and 1 other file(s)"
      ],
      "text/plain": [
       "<IPython.core.display.HTML object>"
      ]
     },
     "metadata": {},
     "output_type": "display_data"
    },
    {
     "data": {
      "text/html": [
       "Find logs at: <code>./wandb/run-20250425_171338-8wah8ij5/logs</code>"
      ],
      "text/plain": [
       "<IPython.core.display.HTML object>"
      ]
     },
     "metadata": {},
     "output_type": "display_data"
    }
   ],
   "source": [
    "# Terminate the run\n",
    "run.finish()"
   ]
  },
  {
   "cell_type": "code",
   "execution_count": null,
   "id": "422f506b-6759-4362-99b8-6740381fb5a4",
   "metadata": {},
   "outputs": [],
   "source": []
  },
  {
   "cell_type": "code",
   "execution_count": null,
   "id": "63bd6a40-58f0-4833-b210-33225173c533",
   "metadata": {},
   "outputs": [],
   "source": []
  }
 ],
 "metadata": {
  "kernelspec": {
   "display_name": "Python 3 (ipykernel)",
   "language": "python",
   "name": "python3"
  },
  "language_info": {
   "codemirror_mode": {
    "name": "ipython",
    "version": 3
   },
   "file_extension": ".py",
   "mimetype": "text/x-python",
   "name": "python",
   "nbconvert_exporter": "python",
   "pygments_lexer": "ipython3",
   "version": "3.10.17"
  }
 },
 "nbformat": 4,
 "nbformat_minor": 5
}
